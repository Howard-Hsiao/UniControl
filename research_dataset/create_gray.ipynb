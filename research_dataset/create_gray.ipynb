{
 "cells": [
  {
   "cell_type": "code",
   "execution_count": 1,
   "metadata": {},
   "outputs": [],
   "source": [
    "import glob\n",
    "import os\n",
    "\n",
    "img_list = os.listdir(\"./images/\")"
   ]
  },
  {
   "cell_type": "code",
   "execution_count": 18,
   "metadata": {},
   "outputs": [],
   "source": [
    "json_list = []\n",
    "for img_name in img_list:\n",
    "    json_list.append({\n",
    "        'source': img_name,\n",
    "        'prompt': \"test\",\n",
    "        'control_grayscale': img_name\n",
    "    })"
   ]
  },
  {
   "cell_type": "code",
   "execution_count": 19,
   "metadata": {},
   "outputs": [],
   "source": [
    "import json\n",
    "\n",
    "with open(\"./json_files/roy.json\", 'w') as file:\n",
    "    for jsonl in json_list:\n",
    "        file.write(json.dumps(jsonl) + '\\n')"
   ]
  },
  {
   "cell_type": "code",
   "execution_count": 11,
   "metadata": {},
   "outputs": [],
   "source": [
    "from PIL import Image\n",
    "import os\n",
    "\n",
    "src_folder = \"./images/\"\n",
    "tgt_folder = \"./conditions/\"\n",
    "\n",
    "for img_name in img_list:\n",
    "    src_path = os.path.join(src_folder, img_name)\n",
    "    tgt_path = os.path.join(tgt_folder, img_name)\n",
    "    \n",
    "    Image.open(src_path).convert(\"L\").save(tgt_path)"
   ]
  }
 ],
 "metadata": {
  "kernelspec": {
   "display_name": "unicontrol",
   "language": "python",
   "name": "python3"
  },
  "language_info": {
   "codemirror_mode": {
    "name": "ipython",
    "version": 3
   },
   "file_extension": ".py",
   "mimetype": "text/x-python",
   "name": "python",
   "nbconvert_exporter": "python",
   "pygments_lexer": "ipython3",
   "version": "3.8.5"
  },
  "orig_nbformat": 4
 },
 "nbformat": 4,
 "nbformat_minor": 2
}
